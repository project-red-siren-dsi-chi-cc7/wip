{
 "cells": [
  {
   "cell_type": "code",
   "execution_count": 2,
   "metadata": {},
   "outputs": [],
   "source": [
    "import pandas as pd\n",
    "import numpy as np\n",
    "import re\n",
    "import string\n",
    "import librosa"
   ]
  },
  {
   "cell_type": "code",
   "execution_count": 3,
   "metadata": {},
   "outputs": [],
   "source": [
    "def words_extractor(file, cl):\n",
    "    # extract the class (positive or negative) and the name of the city\n",
    "    file_name = file.split('/')[-1]\n",
    "    if cl == 'positive':\n",
    "        pos = re.compile('positive\\w+').findall(file_name)[0].split('_')\n",
    "        class1 = pos[0]\n",
    "        city = ' '.join(pos[1:-1])\n",
    "    else:\n",
    "        neg = re.compile('negative\\w+').findall(file_name)[0].split('_')\n",
    "        class1 = neg[0]\n",
    "        city = ' '.join(neg[1:-1])\n",
    "    \n",
    "    return class1, city\n",
    "\n",
    "def create_dataframe(folder, cl):\n",
    "    # Create a list of paths to all audio files and assign it to a variable\n",
    "    files = librosa.util.find_files('./Audio/{}'.format(folder)) # in parameters, set the path to audio files\n",
    "\n",
    "    # Create an empty list to append lists of values from different features\n",
    "    values = []\n",
    "\n",
    "    # Loop through the list of paths and load the files\n",
    "    for file in files: \n",
    "        # y = audio time series\n",
    "        # sr = sample rate of 'y'\n",
    "        y, sr = librosa.load(file)\n",
    "        \n",
    "        # get the list of mean values extracted from different features\n",
    "        stft = np.abs(librosa.stft(y))\n",
    "        mfcc = np.mean(librosa.feature.mfcc(y=y, sr=sr, n_mfcc=40).T, axis=0)\n",
    "        chroma = np.mean(librosa.feature.chroma_stft(S=stft, sr=sr).T, axis=0)\n",
    "#         mel = np.mean(librosa.feature.melspectrogram(y, sr=sr).T, axis=0)\n",
    "#         contrast = np.mean(librosa.feature.spectral_contrast(S=stft, sr=sr).T, axis=0)\n",
    "#         tonnetz = np.mean(librosa.feature.tonnetz(y=librosa.effects.harmonic(y), sr=sr).T, axis=0)\n",
    "        \n",
    "        # extract class and city form the file name\n",
    "        class1, city = words_extractor(file, cl)\n",
    "    \n",
    "        # append to the list\n",
    "        values.append([city, class1, mfcc, chroma])\n",
    "\n",
    "    # Create a DataFrame out of the list\n",
    "    df = pd.DataFrame(values, columns=['city', 'class', 'mfcc', 'chroma'])\n",
    "    return df"
   ]
  },
  {
   "cell_type": "code",
   "execution_count": 4,
   "metadata": {
    "scrolled": true
   },
   "outputs": [
    {
     "name": "stderr",
     "output_type": "stream",
     "text": [
      "/anaconda3/lib/python3.7/site-packages/librosa/core/pitch.py:145: UserWarning: Trying to estimate tuning from empty frequency set.\n",
      "  warnings.warn('Trying to estimate tuning from empty frequency set.')\n"
     ]
    }
   ],
   "source": [
    "df_positive = create_dataframe('emergency', 'positive')\n",
    "df_negative = create_dataframe('not_emergency', 'negative')"
   ]
  },
  {
   "cell_type": "code",
   "execution_count": 11,
   "metadata": {},
   "outputs": [],
   "source": [
    "# # Save as csv\n",
    "# df_positive.to_csv('df_positive.csv')\n",
    "# df_negative.to_csv('df_negative.csv')\n",
    "\n",
    "# df = pd.concat([df_positive, df_negative], axis=0)\n",
    "# df.to_csv('df.csv', index=False)"
   ]
  },
  {
   "cell_type": "markdown",
   "metadata": {},
   "source": [
    "#### The loop below extends lists of values in the dataframe. I don't know how to explain it in words, just run the code to see what I mean"
   ]
  },
  {
   "cell_type": "code",
   "execution_count": 199,
   "metadata": {},
   "outputs": [],
   "source": [
    "cols = df.columns[2:]\n",
    "for col in cols:\n",
    "    length = pd.DataFrame(df[col].tolist()).shape[1]\n",
    "    col_seq = []\n",
    "    for i in range(1, length+1):\n",
    "        col_seq.append(f'{col}_{i}')\n",
    "    dfs = [df, pd.DataFrame(df[col].tolist(), columns=col_seq)]\n",
    "    df = pd.concat(dfs, axis=1).drop(col, axis=1)"
   ]
  }
 ],
 "metadata": {
  "kernelspec": {
   "display_name": "Python 3",
   "language": "python",
   "name": "python3"
  },
  "language_info": {
   "codemirror_mode": {
    "name": "ipython",
    "version": 3
   },
   "file_extension": ".py",
   "mimetype": "text/x-python",
   "name": "python",
   "nbconvert_exporter": "python",
   "pygments_lexer": "ipython3",
   "version": "3.7.2"
  }
 },
 "nbformat": 4,
 "nbformat_minor": 2
}
